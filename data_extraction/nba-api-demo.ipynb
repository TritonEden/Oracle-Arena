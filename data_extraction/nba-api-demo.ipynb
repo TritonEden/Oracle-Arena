{
 "cells": [
  {
   "cell_type": "markdown",
   "metadata": {},
   "source": [
    "### Data for today's games"
   ]
  },
  {
   "cell_type": "code",
   "execution_count": 91,
   "metadata": {},
   "outputs": [
    {
     "name": "stdout",
     "output_type": "stream",
     "text": [
      "Wizards (0) @ Hornets (0) \n",
      "Nets (0) @ Pistons (0) \n",
      "Kings (0) @ Rockets (0) \n",
      "Spurs (0) @ Grizzlies (0) \n",
      "Warriors (0) @ 76ers (0) \n",
      "Bucks (0) @ Mavericks (0) \n"
     ]
    }
   ],
   "source": [
    "from nba_api.live.nba.endpoints import scoreboard\n",
    "\n",
    "# Fetch the scoreboard data\n",
    "games = scoreboard.ScoreBoard()\n",
    "\n",
    "# Extract raw JSON data\n",
    "games_data = games.get_dict()\n",
    "\n",
    "# Parse and display relevant game data\n",
    "for game in games_data['scoreboard']['games']:\n",
    "    home_team = game['homeTeam']['teamName']\n",
    "    home_score = game['homeTeam']['score']\n",
    "    away_team = game['awayTeam']['teamName']\n",
    "    away_score = game['awayTeam']['score']\n",
    "    print(f\"{away_team} ({away_score}) @ {home_team} ({home_score}) \")\n"
   ]
  },
  {
   "cell_type": "markdown",
   "metadata": {},
   "source": [
    "### Data for past games"
   ]
  },
  {
   "cell_type": "code",
   "execution_count": 92,
   "metadata": {},
   "outputs": [
    {
     "name": "stdout",
     "output_type": "stream",
     "text": [
      "Heat (124) @ Pistons (125)\n",
      "76ers (121) @ Hornets (108)\n",
      "Bulls (122) @ Raptors (121)\n",
      "Cavaliers (130) @ Nets (101)\n",
      "Nuggets (130) @ Kings (129)\n",
      "Jazz (107) @ Clippers (144)\n"
     ]
    }
   ],
   "source": [
    "from datetime import date\n",
    "import nba_api.stats.endpoints as endpoints\n",
    "from nba_api.live.nba.endpoints import boxscore\n",
    "\n",
    "# endpoints.scoreboardv2.ScoreboardV2 only works for games from the 2020 season and beyond\n",
    "game_date = date(2024, 12, 16)\n",
    "games = endpoints.scoreboardv2.ScoreboardV2(game_date=game_date)\n",
    "games_data = games.get_data_frames()[0]\n",
    "\n",
    "for game_id in games_data['GAME_ID']:\n",
    "    # Get BoxScore\n",
    "    box = boxscore.BoxScore(game_id) \n",
    "    game_data = box.game.get_dict()\n",
    "\n",
    "    # Extract team scores\n",
    "    home_team = game_data['homeTeam']['teamName']\n",
    "    away_team = game_data['awayTeam']['teamName']\n",
    "    home_score = game_data['homeTeam']['score']\n",
    "    away_score = game_data['awayTeam']['score']\n",
    "\n",
    "    # Print the result\n",
    "    print(f\"{away_team} ({away_score}) @ {home_team} ({home_score})\")"
   ]
  },
  {
   "cell_type": "markdown",
   "metadata": {},
   "source": [
    "### Boxscore For a Game"
   ]
  },
  {
   "cell_type": "code",
   "execution_count": 99,
   "metadata": {},
   "outputs": [],
   "source": [
    "from datetime import date\n",
    "import nba_api.stats.endpoints as endpoints\n",
    "from nba_api.live.nba.endpoints import boxscore\n",
    "\n",
    "game_date = date(2024, 12, 16)\n",
    "games = endpoints.scoreboardv2.ScoreboardV2(game_date=game_date)\n",
    "games_data = games.get_data_frames()[0]\n",
    "\n",
    "# Get stats for the first game in the list\n",
    "game_id = games_data['GAME_ID'][2]\n",
    "\n",
    "# Get all stats using BoxScoreTraditionalV2\n",
    "boxscore = endpoints.boxscoretraditionalv2.BoxScoreTraditionalV2(game_id=game_id)\n",
    "all_data_frames = boxscore.get_data_frames()\n",
    "\n",
    "with open('boxscore.txt', 'w') as file:\n",
    "    for df in all_data_frames:\n",
    "        file.write(df.to_string())\n",
    "        file.write('\\n\\n')"
   ]
  },
  {
   "cell_type": "markdown",
   "metadata": {},
   "source": [
    "### How to get the season from the game id"
   ]
  },
  {
   "cell_type": "code",
   "execution_count": 62,
   "metadata": {},
   "outputs": [
    {
     "name": "stdout",
     "output_type": "stream",
     "text": [
      "1946-1947\n",
      "1999-2000\n",
      "2000-2001\n",
      "2024-2025\n"
     ]
    }
   ],
   "source": [
    "def get_season(game_id):\n",
    "    \"\"\"\n",
    "    Determines the NBA season based on the given game_id.\n",
    "\n",
    "    The game_id follows a pattern where:\n",
    "    - A game_id starting with '00246' to '00299' corresponds to seasons from 1946-47 to 1999-00.\n",
    "    - A game_id starting with '00200' to '00224' corresponds to seasons from 2000-01 to 2024-25.\n",
    "\n",
    "    Logic:\n",
    "    - Extract the 4th and 5th digits of game_id (game_year).\n",
    "    - If game_year is between 46 and 99, it belongs to the 1900s (1946-47 to 1999-00).\n",
    "    - Otherwise, it belongs to the 2000s (2000-01 onward).\n",
    "    \"\"\"\n",
    "\n",
    "    game_year = int(game_id[3:5])  # Extracts the season identifier\n",
    "    if 46 <= game_year <= 99:\n",
    "        return f\"{game_year + 1900}-{game_year + 1901}\"\n",
    "    else:\n",
    "        return f\"{game_year + 2000}-{game_year + 2001}\"\n",
    "\n",
    "# Test the function\n",
    "game_id = '0024600001'\n",
    "print(get_season(game_id))  # Output: 1946-1947\n",
    "game_id = '0029900001'\n",
    "print(get_season(game_id))  # Output: 1999-2000\n",
    "game_id = '0020000001'\n",
    "print(get_season(game_id))  # Output: 2000-2001\n",
    "game_id = '0022400001'\n",
    "print(get_season(game_id))  # Output: 2024-2025"
   ]
  },
  {
   "cell_type": "markdown",
   "metadata": {},
   "source": [
    "### Determine the type of game based on the game id\n",
    "\n",
    "#### XXXYYGGGGG\n",
    "XXX: Game type identifier\n",
    "- 001 = Preseason\n",
    "- 002 = Regular Season\n",
    "- 003 = All-Star Game (Also includes Rising Stars games)\n",
    "- 004 = Playoffs\n",
    "- 005 = Play-In Tournament (introduced in 2020)\n",
    "- 006 = NBA Cup Final (introduced in 2023)\n",
    "\n",
    "YY: Season year indicator\n",
    "- 46 -> 99 = 1946-47 -> 1999-00\n",
    "- 00 -> 24 = 2000-01 -> 2024-2025\n",
    "\n",
    "GGGGG: Unique game number"
   ]
  },
  {
   "cell_type": "markdown",
   "metadata": {},
   "source": [
    "### Get the Home and Away Team Given Game ID"
   ]
  },
  {
   "cell_type": "code",
   "execution_count": null,
   "metadata": {},
   "outputs": [
    {
     "name": "stdout",
     "output_type": "stream",
     "text": [
      "Home Team ID: 1610612761\n",
      "Away Team ID: 1610612741\n"
     ]
    }
   ],
   "source": [
    "from nba_api.stats.endpoints import boxscoresummaryv2\n",
    "\n",
    "def get_home_away_team(game_id):\n",
    "    boxscore = boxscoresummaryv2.BoxScoreSummaryV2(game_id=game_id)\n",
    "    game_data = boxscore.get_data_frames()[0]  # Game summary data\n",
    "\n",
    "    home_team_id = game_data['HOME_TEAM_ID'].iloc[0]  # Extract home team ID\n",
    "    away_team_id = game_data['VISITOR_TEAM_ID'].iloc[0]  # Extract away team ID\n",
    "\n",
    "    return home_team_id, away_team_id\n",
    "\n",
    "game_id = \"0022401223\"\n",
    "home_team_id, away_team_id = get_home_away_team(game_id)\n",
    "print(\"Home Team ID:\", home_team_id)\n",
    "print(\"Away Team ID:\", away_team_id)"
   ]
  },
  {
   "cell_type": "markdown",
   "metadata": {},
   "source": [
    "### Testing"
   ]
  },
  {
   "cell_type": "code",
   "execution_count": 120,
   "metadata": {},
   "outputs": [
    {
     "name": "stdout",
     "output_type": "stream",
     "text": [
      "      team_id season_year team_location team_name team_abbreviation\n",
      "0  1610612761   2024-2025       Toronto   Raptors               TOR\n",
      "1  1610612741   2024-2025       Chicago     Bulls               CHI\n"
     ]
    }
   ],
   "source": [
    "from datetime import date\n",
    "import pandas as pd\n",
    "import nba_api.stats.endpoints as endpoints\n",
    "from nba_api.live.nba.endpoints import boxscore\n",
    "\n",
    "teams_table = pd.DataFrame(columns=['team_id', 'season_year', 'team_location', 'team_name', 'team_abbreviation'])\n",
    "\n",
    "game_date = date(2024, 12, 16)\n",
    "games = endpoints.scoreboardv2.ScoreboardV2(game_date=game_date)\n",
    "games_data = games.get_data_frames()[0]\n",
    "\n",
    "# Get stats for the first game in the list\n",
    "game_id = games_data['GAME_ID'][2]\n",
    "\n",
    "# Get all stats using BoxScoreTraditionalV2\n",
    "boxscore = endpoints.boxscoretraditionalv2.BoxScoreTraditionalV2(game_id=game_id)\n",
    "player_stats = boxscore.get_data_frames()[0]\n",
    "team_stats = boxscore.get_data_frames()[1]\n",
    "\n",
    "# Get general data\n",
    "game_id = player_stats['GAME_ID'][0]\n",
    "season_year = get_season(game_id)\n",
    "home_team_id, away_team_id = get_home_away_team(game_id)\n",
    "\n",
    "# Get home team data\n",
    "home_team_row = team_stats[team_stats['TEAM_ID'] == home_team_id].iloc[0]\n",
    "home_team_location = home_team_row['TEAM_CITY']\n",
    "home_team_name = home_team_row['TEAM_NAME']\n",
    "home_team_abbrev = home_team_row['TEAM_ABBREVIATION']\n",
    "\n",
    "# Get away team data\n",
    "away_team_row = team_stats[team_stats['TEAM_ID'] == away_team_id].iloc[0]\n",
    "away_team_location = away_team_row['TEAM_CITY']\n",
    "away_team_name = away_team_row['TEAM_NAME']\n",
    "away_team_abbrev = away_team_row['TEAM_ABBREVIATION']\n",
    "\n",
    "# Convert the data to a data frame and concatenate it with the existing teams_table\n",
    "new_rows = pd.DataFrame([\n",
    "    {'team_id': home_team_id, 'season_year': season_year,\n",
    "     'team_location': home_team_location, 'team_name': home_team_name,\n",
    "     'team_abbreviation': home_team_abbrev},\n",
    "\n",
    "    {'team_id': away_team_id, 'season_year': season_year,\n",
    "     'team_location': away_team_location, 'team_name': away_team_name,\n",
    "     'team_abbreviation': away_team_abbrev}\n",
    "])\n",
    "\n",
    "# Ensure uniqueness before concatenation (set lookup is O(1) time complexity)\n",
    "existing_keys = set(zip(teams_table['team_id'], teams_table['season_year']))\n",
    "new_rows_filtered = new_rows[~new_rows.apply(lambda row: (row['team_id'], row['season_year']) in existing_keys, axis=1)]\n",
    "\n",
    "# Concatenate only if new unique rows exist\n",
    "if not new_rows_filtered.empty:\n",
    "    teams_table = pd.concat([teams_table, new_rows_filtered], ignore_index=True)\n",
    "\n",
    "print(teams_table)"
   ]
  },
  {
   "cell_type": "markdown",
   "metadata": {},
   "source": [
    "### Team stats for each game in a specified season"
   ]
  },
  {
   "cell_type": "code",
   "execution_count": 1,
   "metadata": {},
   "outputs": [],
   "source": [
    "from nba_api.stats.endpoints import teamgamelog\n",
    "import pandas as pd\n",
    "\n",
    "# Dallas Mavericks team ID\n",
    "team_id = 1610612742\n",
    "\n",
    "# Get team game log for the entire season\n",
    "team_game_log = teamgamelog.TeamGameLog(team_id=team_id, season='2024-25')\n",
    "team_game_log_data = team_game_log.get_data_frames()[0]\n",
    "\n",
    "with open('mavericks_season_game_log.txt', 'w') as file:\n",
    "    file.write(team_game_log_data.to_string())"
   ]
  },
  {
   "cell_type": "markdown",
   "metadata": {},
   "source": [
    "### Player data"
   ]
  },
  {
   "cell_type": "code",
   "execution_count": 5,
   "metadata": {},
   "outputs": [
    {
     "name": "stdout",
     "output_type": "stream",
     "text": [
      "    PLAYER_ID SEASON_ID LEAGUE_ID     TEAM_ID TEAM_ABBREVIATION  PLAYER_AGE  \\\n",
      "0        2544   2003-04        00  1610612739               CLE        19.0   \n",
      "1        2544   2004-05        00  1610612739               CLE        20.0   \n",
      "2        2544   2005-06        00  1610612739               CLE        21.0   \n",
      "3        2544   2006-07        00  1610612739               CLE        22.0   \n",
      "4        2544   2007-08        00  1610612739               CLE        23.0   \n",
      "5        2544   2008-09        00  1610612739               CLE        24.0   \n",
      "6        2544   2009-10        00  1610612739               CLE        25.0   \n",
      "7        2544   2010-11        00  1610612748               MIA        26.0   \n",
      "8        2544   2011-12        00  1610612748               MIA        27.0   \n",
      "9        2544   2012-13        00  1610612748               MIA        28.0   \n",
      "10       2544   2013-14        00  1610612748               MIA        29.0   \n",
      "11       2544   2014-15        00  1610612739               CLE        30.0   \n",
      "12       2544   2015-16        00  1610612739               CLE        31.0   \n",
      "13       2544   2016-17        00  1610612739               CLE        32.0   \n",
      "14       2544   2017-18        00  1610612739               CLE        33.0   \n",
      "15       2544   2018-19        00  1610612747               LAL        34.0   \n",
      "16       2544   2019-20        00  1610612747               LAL        35.0   \n",
      "17       2544   2020-21        00  1610612747               LAL        36.0   \n",
      "18       2544   2021-22        00  1610612747               LAL        37.0   \n",
      "19       2544   2022-23        00  1610612747               LAL        38.0   \n",
      "20       2544   2023-24        00  1610612747               LAL        39.0   \n",
      "21       2544   2024-25        00  1610612747               LAL        40.0   \n",
      "\n",
      "    GP  GS     MIN  FGM  ...  FT_PCT  OREB  DREB  REB  AST  STL  BLK  TOV  \\\n",
      "0   79  79  3120.0  622  ...   0.754    99   333  432  465  130   58  273   \n",
      "1   80  80  3388.0  795  ...   0.750   111   477  588  577  177   52  262   \n",
      "2   79  79  3361.0  875  ...   0.738    75   481  556  521  123   66  260   \n",
      "3   78  78  3190.0  772  ...   0.698    83   443  526  470  125   55  250   \n",
      "4   75  74  3027.0  794  ...   0.712   133   459  592  539  138   81  255   \n",
      "5   81  81  3054.0  789  ...   0.780   106   507  613  587  137   93  241   \n",
      "6   76  76  2966.0  768  ...   0.767    71   483  554  651  125   77  261   \n",
      "7   79  79  3063.0  758  ...   0.759    80   510  590  554  124   50  284   \n",
      "8   62  62  2326.0  621  ...   0.771    94   398  492  387  115   50  213   \n",
      "9   76  76  2877.0  765  ...   0.753    97   513  610  551  129   67  226   \n",
      "10  77  77  2902.0  767  ...   0.750    81   452  533  488  121   26  270   \n",
      "11  69  69  2493.0  624  ...   0.710    51   365  416  511  109   49  272   \n",
      "12  76  76  2709.0  737  ...   0.731   111   454  565  514  104   49  249   \n",
      "13  74  74  2795.0  736  ...   0.674    97   542  639  646   92   44  303   \n",
      "14  82  82  3026.0  857  ...   0.731    97   612  709  747  116   71  347   \n",
      "15  55  55  1937.0  558  ...   0.665    57   408  465  454   72   33  197   \n",
      "16  67  67  2316.0  643  ...   0.693    66   459  525  684   78   36  261   \n",
      "17  45  45  1504.0  422  ...   0.698    29   317  346  350   48   25  168   \n",
      "18  56  56  2084.0  640  ...   0.756    63   396  459  349   73   59  196   \n",
      "19  55  54  1954.0  609  ...   0.768    65   392  457  375   50   32  178   \n",
      "20  71  71  2504.0  685  ...   0.750    61   457  518  589   89   38  245   \n",
      "21  48  48  1658.0  448  ...   0.759    42   329  371  431   42   24  184   \n",
      "\n",
      "     PF   PTS  \n",
      "0   149  1654  \n",
      "1   146  2175  \n",
      "2   181  2478  \n",
      "3   171  2132  \n",
      "4   165  2250  \n",
      "5   139  2304  \n",
      "6   119  2258  \n",
      "7   163  2111  \n",
      "8    96  1683  \n",
      "9   110  2036  \n",
      "10  126  2089  \n",
      "11  135  1743  \n",
      "12  143  1920  \n",
      "13  134  1954  \n",
      "14  136  2251  \n",
      "15   94  1505  \n",
      "16  118  1698  \n",
      "17   70  1126  \n",
      "18  121  1695  \n",
      "19   88  1590  \n",
      "20   78  1822  \n",
      "21   69  1167  \n",
      "\n",
      "[22 rows x 27 columns]\n"
     ]
    }
   ],
   "source": [
    "from nba_api.stats.endpoints import playercareerstats\n",
    "\n",
    "career = playercareerstats.PlayerCareerStats(player_id=2544)\n",
    "\n",
    "lebron_stats = career.get_data_frames()[0]\n",
    "\n",
    "print(lebron_stats)"
   ]
  }
 ],
 "metadata": {
  "kernelspec": {
   "display_name": "oracle-arena",
   "language": "python",
   "name": "python3"
  },
  "language_info": {
   "codemirror_mode": {
    "name": "ipython",
    "version": 3
   },
   "file_extension": ".py",
   "mimetype": "text/x-python",
   "name": "python",
   "nbconvert_exporter": "python",
   "pygments_lexer": "ipython3",
   "version": "3.11.11"
  }
 },
 "nbformat": 4,
 "nbformat_minor": 2
}
