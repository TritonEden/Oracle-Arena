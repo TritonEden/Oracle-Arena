{
 "cells": [
  {
   "cell_type": "code",
   "execution_count": 2,
   "metadata": {},
   "outputs": [],
   "source": [
    "import pandas as pd\n",
    "import os\n"
   ]
  },
  {
   "cell_type": "code",
   "execution_count": 21,
   "metadata": {},
   "outputs": [
    {
     "name": "stdout",
     "output_type": "stream",
     "text": [
      "games-failed.csv\n",
      "games-full.csv\n",
      "teams-failed.csv\n",
      "teams-full.csv\n",
      "players-failed.csv\n",
      "players-full.csv\n",
      "player_game_stats-failed.csv\n",
      "player_game_stats-full.csv\n"
     ]
    }
   ],
   "source": [
    "def concat_files(pattern, columns, dir = \".\"):\n",
    "    df = pd.DataFrame(columns=columns)\n",
    "\n",
    "    for file in os.listdir(dir):\n",
    "        if not file[:len(pattern)] == pattern:\n",
    "            continue\n",
    "        print(file)\n",
    "        #Concat the data\n",
    "        df = pd.concat([df,pd.read_csv(file, dtype=str, on_bad_lines=\"skip\", engine=\"python\")],ignore_index=True)\n",
    "\n",
    "    return df\n",
    "\n",
    "df_games = concat_files(\"game\",[\"game_id\",\"season_year\",\"game_date\",\"home_team_id\",\"away_team_id\"])\n",
    "df_games = df_games.drop_duplicates(subset=\"game_id\")\n",
    "df_games.to_csv(\"games-full.csv\",index=False)\n",
    "\n",
    "df_teams = concat_files(\"team\",[\"team_id\",\"season_year\",\"team_location\",\"team_name\",\"team_abbreviation\"])\n",
    "df_teams = df_teams.drop_duplicates(subset=[\"team_id\", \"season_year\"])\n",
    "df_teams.to_csv(\"teams-full.csv\",index=False)\n",
    "\n",
    "df_players = concat_files(\"players\",[\"player_id\",\"player_first_name\",\"player_last_name\"])\n",
    "df_players = df_players.drop_duplicates(subset=\"player_id\")\n",
    "df_players.to_csv(\"players-full.csv\",index=False)\n",
    "\n",
    "df_stats = concat_files(\"player_game\", [\"game_id\", \"player_id\", \"team_id\", \"player_game_stats\"])\n",
    "df_stats = df_stats.drop_duplicates(subset=[\"game_id\", \"player_id\"])\n",
    "df_stats.to_csv(\"player_game_stats-full.csv\",index=False)"
   ]
  },
  {
   "cell_type": "code",
   "execution_count": 20,
   "metadata": {},
   "outputs": [
    {
     "name": "stdout",
     "output_type": "stream",
     "text": [
      "Failed dates: []\n"
     ]
    }
   ],
   "source": [
    "def extract_failed_dates(log_file):\n",
    "    failed_dates = []\n",
    "    current_date = None\n",
    "\n",
    "    with open(log_file, \"r\", encoding=\"utf-8\") as file:\n",
    "        for line in file:\n",
    "            if line.startswith(\"Processing games for\"):\n",
    "                current_date = line.strip().split()[-1]\n",
    "            elif \"Failed after 15 attempts\" in line and current_date:\n",
    "                failed_dates.append(current_date[:-3])\n",
    "\n",
    "    return failed_dates\n",
    "\n",
    "# Example usage\n",
    "log_file = \"output1.txt\"  # Replace with your actual file path\n",
    "failed_dates = extract_failed_dates(log_file)\n",
    "print(\"Failed dates:\", failed_dates)\n",
    "\n",
    "#save to output, one date per line\n",
    "with open(\"failed_dates.txt\", \"w\") as file:\n",
    "    for date in failed_dates:\n",
    "        file.write(date + \"\\n\")"
   ]
  }
 ],
 "metadata": {
  "kernelspec": {
   "display_name": "Python 3",
   "language": "python",
   "name": "python3"
  },
  "language_info": {
   "codemirror_mode": {
    "name": "ipython",
    "version": 3
   },
   "file_extension": ".py",
   "mimetype": "text/x-python",
   "name": "python",
   "nbconvert_exporter": "python",
   "pygments_lexer": "ipython3",
   "version": "3.10.11"
  }
 },
 "nbformat": 4,
 "nbformat_minor": 2
}
