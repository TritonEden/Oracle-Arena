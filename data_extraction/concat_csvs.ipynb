{
 "cells": [
  {
   "cell_type": "code",
   "execution_count": 3,
   "metadata": {},
   "outputs": [],
   "source": [
    "import pandas as pd\n",
    "import os\n"
   ]
  },
  {
   "cell_type": "code",
   "execution_count": 4,
   "metadata": {},
   "outputs": [
    {
     "name": "stdout",
     "output_type": "stream",
     "text": [
      "games-full-2.csv\n",
      "games-full.csv\n",
      "games-old-2.csv\n",
      "games-old-3.csv\n",
      "games-old.csv\n",
      "teams-full-2.csv\n",
      "teams-full.csv\n",
      "teams-old-2.csv\n",
      "teams-old-3.csv\n",
      "teams-old.csv\n",
      "players-full-2.csv\n",
      "players-full.csv\n",
      "players-old-2.csv\n",
      "players-old-3.csv\n",
      "players-old.csv\n",
      "player_game_stats-full-2.csv\n",
      "player_game_stats-full.csv\n",
      "player_game_stats-old-2.csv\n",
      "player_game_stats-old-3.csv\n",
      "player_game_stats-old-4.csv\n",
      "player_game_stats-old.csv\n"
     ]
    }
   ],
   "source": [
    "def concat_files(pattern, columns, dir = \".\"):\n",
    "    df = pd.DataFrame(columns=columns, dtype=str)\n",
    "\n",
    "    for file in os.listdir(dir):\n",
    "        if not file[:len(pattern)] == pattern:\n",
    "            continue\n",
    "        print(file)\n",
    "        #Concat the data\n",
    "        df = pd.concat([df,pd.read_csv(file, dtype=str, on_bad_lines=\"skip\", engine=\"python\")],ignore_index=True)\n",
    "\n",
    "    return df\n",
    "\n",
    "df_games = concat_files(\"game\",[\"game_id\",\"season_year\",\"game_date\",\"home_team_id\",\"away_team_id\"])\n",
    "df_games = df_games.drop_duplicates(subset=\"game_id\")\n",
    "df_games.to_csv(\"games-full-2.csv\",index=False)\n",
    "\n",
    "df_teams = concat_files(\"team\",[\"team_id\",\"season_year\",\"team_location\",\"team_name\",\"team_abbreviation\"])\n",
    "df_teams = df_teams.drop_duplicates(subset=[\"team_id\", \"season_year\"])\n",
    "df_teams.to_csv(\"teams-full-2.csv\",index=False)\n",
    "\n",
    "df_players = concat_files(\"players\",[\"player_id\",\"player_first_name\",\"player_last_name\"])\n",
    "df_players = df_players.drop_duplicates(subset=\"player_id\")\n",
    "df_players.to_csv(\"players-full-2.csv\",index=False)\n",
    "\n",
    "df_stats = concat_files(\"player_game\", [\"game_id\", \"player_id\", \"team_id\", \"player_game_stats\"])\n",
    "df_stats = df_stats.drop_duplicates(subset=[\"game_id\", \"player_id\"])\n",
    "df_stats.to_csv(\"player_game_stats-full-2.csv\",index=False)"
   ]
  },
  {
   "cell_type": "code",
   "execution_count": 5,
   "metadata": {},
   "outputs": [
    {
     "ename": "FileNotFoundError",
     "evalue": "[Errno 2] No such file or directory: 'output1.txt'",
     "output_type": "error",
     "traceback": [
      "\u001b[31m---------------------------------------------------------------------------\u001b[39m",
      "\u001b[31mFileNotFoundError\u001b[39m                         Traceback (most recent call last)",
      "\u001b[36mCell\u001b[39m\u001b[36m \u001b[39m\u001b[32mIn[5]\u001b[39m\u001b[32m, line 16\u001b[39m\n\u001b[32m     14\u001b[39m \u001b[38;5;66;03m# Example usage\u001b[39;00m\n\u001b[32m     15\u001b[39m log_file = \u001b[33m\"\u001b[39m\u001b[33moutput1.txt\u001b[39m\u001b[33m\"\u001b[39m  \u001b[38;5;66;03m# Replace with your actual file path\u001b[39;00m\n\u001b[32m---> \u001b[39m\u001b[32m16\u001b[39m failed_dates = \u001b[43mextract_failed_dates\u001b[49m\u001b[43m(\u001b[49m\u001b[43mlog_file\u001b[49m\u001b[43m)\u001b[49m\n\u001b[32m     17\u001b[39m \u001b[38;5;28mprint\u001b[39m(\u001b[33m\"\u001b[39m\u001b[33mFailed dates:\u001b[39m\u001b[33m\"\u001b[39m, failed_dates)\n\u001b[32m     19\u001b[39m \u001b[38;5;66;03m#save to output, one date per line\u001b[39;00m\n",
      "\u001b[36mCell\u001b[39m\u001b[36m \u001b[39m\u001b[32mIn[5]\u001b[39m\u001b[32m, line 5\u001b[39m, in \u001b[36mextract_failed_dates\u001b[39m\u001b[34m(log_file)\u001b[39m\n\u001b[32m      2\u001b[39m failed_dates = []\n\u001b[32m      3\u001b[39m current_date = \u001b[38;5;28;01mNone\u001b[39;00m\n\u001b[32m----> \u001b[39m\u001b[32m5\u001b[39m \u001b[38;5;28;01mwith\u001b[39;00m \u001b[38;5;28;43mopen\u001b[39;49m\u001b[43m(\u001b[49m\u001b[43mlog_file\u001b[49m\u001b[43m,\u001b[49m\u001b[43m \u001b[49m\u001b[33;43m\"\u001b[39;49m\u001b[33;43mr\u001b[39;49m\u001b[33;43m\"\u001b[39;49m\u001b[43m,\u001b[49m\u001b[43m \u001b[49m\u001b[43mencoding\u001b[49m\u001b[43m=\u001b[49m\u001b[33;43m\"\u001b[39;49m\u001b[33;43mutf-8\u001b[39;49m\u001b[33;43m\"\u001b[39;49m\u001b[43m)\u001b[49m \u001b[38;5;28;01mas\u001b[39;00m file:\n\u001b[32m      6\u001b[39m     \u001b[38;5;28;01mfor\u001b[39;00m line \u001b[38;5;129;01min\u001b[39;00m file:\n\u001b[32m      7\u001b[39m         \u001b[38;5;28;01mif\u001b[39;00m line.startswith(\u001b[33m\"\u001b[39m\u001b[33mProcessing games for\u001b[39m\u001b[33m\"\u001b[39m):\n",
      "\u001b[36mFile \u001b[39m\u001b[32mc:\\Users\\ryana\\anaconda3\\envs\\oracle\\Lib\\site-packages\\IPython\\core\\interactiveshell.py:325\u001b[39m, in \u001b[36m_modified_open\u001b[39m\u001b[34m(file, *args, **kwargs)\u001b[39m\n\u001b[32m    318\u001b[39m \u001b[38;5;28;01mif\u001b[39;00m file \u001b[38;5;129;01min\u001b[39;00m {\u001b[32m0\u001b[39m, \u001b[32m1\u001b[39m, \u001b[32m2\u001b[39m}:\n\u001b[32m    319\u001b[39m     \u001b[38;5;28;01mraise\u001b[39;00m \u001b[38;5;167;01mValueError\u001b[39;00m(\n\u001b[32m    320\u001b[39m         \u001b[33mf\u001b[39m\u001b[33m\"\u001b[39m\u001b[33mIPython won\u001b[39m\u001b[33m'\u001b[39m\u001b[33mt let you open fd=\u001b[39m\u001b[38;5;132;01m{\u001b[39;00mfile\u001b[38;5;132;01m}\u001b[39;00m\u001b[33m by default \u001b[39m\u001b[33m\"\u001b[39m\n\u001b[32m    321\u001b[39m         \u001b[33m\"\u001b[39m\u001b[33mas it is likely to crash IPython. If you know what you are doing, \u001b[39m\u001b[33m\"\u001b[39m\n\u001b[32m    322\u001b[39m         \u001b[33m\"\u001b[39m\u001b[33myou can use builtins\u001b[39m\u001b[33m'\u001b[39m\u001b[33m open.\u001b[39m\u001b[33m\"\u001b[39m\n\u001b[32m    323\u001b[39m     )\n\u001b[32m--> \u001b[39m\u001b[32m325\u001b[39m \u001b[38;5;28;01mreturn\u001b[39;00m \u001b[43mio_open\u001b[49m\u001b[43m(\u001b[49m\u001b[43mfile\u001b[49m\u001b[43m,\u001b[49m\u001b[43m \u001b[49m\u001b[43m*\u001b[49m\u001b[43margs\u001b[49m\u001b[43m,\u001b[49m\u001b[43m \u001b[49m\u001b[43m*\u001b[49m\u001b[43m*\u001b[49m\u001b[43mkwargs\u001b[49m\u001b[43m)\u001b[49m\n",
      "\u001b[31mFileNotFoundError\u001b[39m: [Errno 2] No such file or directory: 'output1.txt'"
     ]
    }
   ],
   "source": [
    "def extract_failed_dates(log_file):\n",
    "    failed_dates = []\n",
    "    current_date = None\n",
    "\n",
    "    with open(log_file, \"r\", encoding=\"utf-8\") as file:\n",
    "        for line in file:\n",
    "            if line.startswith(\"Processing games for\"):\n",
    "                current_date = line.strip().split()[-1]\n",
    "            elif \"Failed after 15 attempts\" in line and current_date:\n",
    "                failed_dates.append(current_date[:-3])\n",
    "\n",
    "    return failed_dates\n",
    "\n",
    "# Example usage\n",
    "log_file = \"output1.txt\"  # Replace with your actual file path\n",
    "failed_dates = extract_failed_dates(log_file)\n",
    "print(\"Failed dates:\", failed_dates)\n",
    "\n",
    "#save to output, one date per line\n",
    "with open(\"failed_dates.txt\", \"w\") as file:\n",
    "    for date in failed_dates:\n",
    "        file.write(date + \"\\n\")"
   ]
  }
 ],
 "metadata": {
  "kernelspec": {
   "display_name": "oracle",
   "language": "python",
   "name": "python3"
  },
  "language_info": {
   "codemirror_mode": {
    "name": "ipython",
    "version": 3
   },
   "file_extension": ".py",
   "mimetype": "text/x-python",
   "name": "python",
   "nbconvert_exporter": "python",
   "pygments_lexer": "ipython3",
   "version": "3.12.7"
  }
 },
 "nbformat": 4,
 "nbformat_minor": 2
}
