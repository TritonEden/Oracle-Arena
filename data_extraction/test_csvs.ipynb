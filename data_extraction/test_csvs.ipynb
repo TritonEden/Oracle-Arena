{
 "cells": [
  {
   "cell_type": "code",
   "execution_count": 1,
   "metadata": {},
   "outputs": [],
   "source": [
    "import pandas as pd\n",
    "import numpy as np\n",
    "import os\n",
    "import time\n",
    "import random\n",
    "import nba_api.stats.endpoints as endpoints\n",
    "from nba_api.live.nba.endpoints import boxscore\n",
    "\n",
    "# Load the dataset\n",
    "games_df = pd.read_csv('games-full.csv')\n",
    "stats_df = pd.read_csv('player_game_stats-full.csv')\n",
    "teams_df = pd.read_csv('teams-full.csv')\n",
    "players_df = pd.read_csv('players-full.csv')"
   ]
  },
  {
   "cell_type": "code",
   "execution_count": 2,
   "metadata": {},
   "outputs": [
    {
     "name": "stdout",
     "output_type": "stream",
     "text": [
      "All assertions passed. Data integrity check successful.\n"
     ]
    }
   ],
   "source": [
    "assert stats_df.player_id.nunique() == players_df.player_id.nunique(), \"Player IDs do not match between stats and players dataframes.\"\n",
    "assert stats_df.team_id.nunique() == teams_df.team_id.nunique(), \"Team IDs do not match between stats and teams dataframes.\"\n",
    "assert stats_df.game_id.nunique() == games_df.game_id.nunique(), \"Game IDs do not match between stats and games dataframes.\"\n",
    "\n",
    "print(\"All assertions passed. Data integrity check successful.\")"
   ]
  }
 ],
 "metadata": {
  "kernelspec": {
   "display_name": "oracle",
   "language": "python",
   "name": "python3"
  },
  "language_info": {
   "codemirror_mode": {
    "name": "ipython",
    "version": 3
   },
   "file_extension": ".py",
   "mimetype": "text/x-python",
   "name": "python",
   "nbconvert_exporter": "python",
   "pygments_lexer": "ipython3",
   "version": "3.12.7"
  }
 },
 "nbformat": 4,
 "nbformat_minor": 2
}
